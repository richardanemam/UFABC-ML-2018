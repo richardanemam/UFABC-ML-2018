{
 "cells": [
  {
   "cell_type": "markdown",
   "metadata": {
    "run_control": {
     "marked": true
    }
   },
   "source": [
    "# Introdução a Aprendizado de Máquina"
   ]
  },
  {
   "cell_type": "markdown",
   "metadata": {
    "run_control": {
     "marked": true
    }
   },
   "source": [
    "## Introdução\n",
    "\n",
    "Utilizaremos a base de dados iris para esse tutorial. Essa é uma base de dados bastante conhecida contendo medidas das pétalas e sépalas da flor de íris. Os dados estão contidos em um arquivo chamado `Iris_Data.csv` encontrado no diretório [data](data)."
   ]
  },
  {
   "cell_type": "code",
   "execution_count": 17,
   "metadata": {
    "collapsed": true
   },
   "outputs": [],
   "source": [
    "import os\n",
    "import matplotlib.pyplot as plt\n",
    "data_path = ['data']"
   ]
  },
  {
   "cell_type": "markdown",
   "metadata": {
    "run_control": {
     "marked": true
    }
   },
   "source": [
    "## Exercício 1\n",
    "\n",
    "Carregue os dados do arquivo usando as técnicas do tutorial *Introduction_to_Machine_Learning_and_Toolkit*. Examine o arquivo.\n",
    "\n",
    "Indique o seguinte:\n",
    "\n",
    "* O número de pontos (linhas) (*Dica:* verifique o atributo `.shape` do dataframe.)\n",
    "* O nome das colunas. (*Dica:* verifique o atributo `.columns` do dataframe.)\n",
    "* Os tipos associados a cada coluna. (*Dica:* verifique o atributo `.dtypes` do dataframe.)"
   ]
  },
  {
   "cell_type": "code",
   "execution_count": 11,
   "metadata": {
    "ExecuteTime": {
     "end_time": "2017-03-19T23:17:21.954025Z",
     "start_time": "2017-03-19T19:17:21.936220-04:00"
    },
    "run_control": {
     "marked": true
    }
   },
   "outputs": [
    {
     "name": "stdout",
     "output_type": "stream",
     "text": [
      "(150, 5)\n",
      "Index(['sepal_length', 'sepal_width', 'petal_length', 'petal_width',\n",
      "       'species'],\n",
      "      dtype='object')\n",
      "sepal_length    float64\n",
      "sepal_width     float64\n",
      "petal_length    float64\n",
      "petal_width     float64\n",
      "species          object\n",
      "dtype: object\n"
     ]
    }
   ],
   "source": [
    "import pandas as pd\n",
    "\n",
    "#get the path \n",
    "filepath = 'data/Iris_Data.csv'\n",
    "\n",
    "#import the data\n",
    "data = pd.read_csv(filepath)\n",
    "df_data = pd.DataFrame(data)\n",
    "\n",
    "\n",
    "#get the rows and the columns\n",
    "print(df_data.shape)\n",
    "\n",
    "#get the columns\n",
    "print(df_data.columns)\n",
    "\n",
    "#get dtype\n",
    "print(df_data.dtypes)\n",
    "\n"
   ]
  },
  {
   "cell_type": "markdown",
   "metadata": {
    "run_control": {
     "marked": true
    }
   },
   "source": [
    "## Exercício 2\n",
    "\n",
    "Examine os nomes das espécies e note que todas elas começam com 'Iris-'. Remova essa parte do nome para tornar o nome mais curto. \n",
    "\n",
    "*Dica:* tem várias maneiras de fazer isso, você pode usar o [string processing methods](http://pandas.pydata.org/pandas-docs/stable/text.html) ou o [apply method](http://pandas.pydata.org/pandas-docs/stable/generated/pandas.Series.apply.html), por exemplo."
   ]
  },
  {
   "cell_type": "code",
   "execution_count": 3,
   "metadata": {
    "ExecuteTime": {
     "end_time": "2017-03-19T23:17:53.678316Z",
     "start_time": "2017-03-19T19:17:53.660202-04:00"
    },
    "run_control": {
     "marked": true
    }
   },
   "outputs": [
    {
     "name": "stdout",
     "output_type": "stream",
     "text": [
      "   sepal_width  petal_length  petal_width species\n",
      "0          3.5           1.4          0.2  setosa\n",
      "1          3.0           1.4          0.2  setosa\n",
      "2          3.2           1.3          0.2  setosa\n",
      "3          3.1           1.5          0.2  setosa\n",
      "4          3.6           1.4          0.2  setosa\n"
     ]
    }
   ],
   "source": [
    "#remove Iris-\n",
    "df_data['species'] = (data.species.apply(lambda x:x.replace('Iris-','')))\n",
    "\n",
    "#print a few examples\n",
    "print(df_data.iloc[:5, 1:])"
   ]
  },
  {
   "cell_type": "markdown",
   "metadata": {
    "run_control": {
     "marked": true
    }
   },
   "source": [
    "## Exercício 3\n",
    "\n",
    "Determine:\n",
    "* A quantidade de cada espécie presente na base. (*Dica:* verifique o método `.value_counts` da série.)\n",
    "* A média, mediana, quantis e faixas (máximo-mínimo) para cada medida de pétala e sépala.\n",
    "\n",
    "*Dica:* para a última parte, o método `.describe` tem mediana, mas é chamada de *50%* quantile. `.describe` não tem faixa, portanto você precisará criar uma nova entrada na tabela com `max - min`."
   ]
  },
  {
   "cell_type": "code",
   "execution_count": 4,
   "metadata": {
    "ExecuteTime": {
     "end_time": "2017-03-19T23:20:16.483215Z",
     "start_time": "2017-03-19T19:20:16.472865-04:00"
    },
    "run_control": {
     "marked": true
    }
   },
   "outputs": [
    {
     "name": "stdout",
     "output_type": "stream",
     "text": [
      "Quantidade de cada espécie:\n",
      "versicolor    50\n",
      "setosa        50\n",
      "virginica     50\n",
      "Name: species, dtype: int64 \n",
      "\n",
      "\n",
      "    Sepal Length Data:\n",
      " count    150.000000\n",
      "mean       5.843333\n",
      "std        0.828066\n",
      "min        4.300000\n",
      "25%        5.100000\n",
      "50%        5.800000\n",
      "75%        6.400000\n",
      "max        7.900000\n",
      "Name: sepal_length, dtype: float64 \n",
      "\n",
      "    Sepal Width Data: \n",
      " count    150.000000\n",
      "mean       3.054000\n",
      "std        0.433594\n",
      "min        2.000000\n",
      "25%        2.800000\n",
      "50%        3.000000\n",
      "75%        3.300000\n",
      "max        4.400000\n",
      "Name: sepal_width, dtype: float64 \n",
      "\n",
      "    Petal Length Data:\n",
      " count    150.000000\n",
      "mean       3.758667\n",
      "std        1.764420\n",
      "min        1.000000\n",
      "25%        1.600000\n",
      "50%        4.350000\n",
      "75%        5.100000\n",
      "max        6.900000\n",
      "Name: petal_length, dtype: float64 \n",
      "\n",
      "    Petal Width Data: \n",
      " count    150.000000\n",
      "mean       1.198667\n",
      "std        0.763161\n",
      "min        0.100000\n",
      "25%        0.300000\n",
      "50%        1.300000\n",
      "75%        1.800000\n",
      "max        2.500000\n",
      "Name: petal_width, dtype: float64 \n",
      "\n",
      "    \n"
     ]
    }
   ],
   "source": [
    "#get the amount of each species\n",
    "\n",
    "print('Quantidade de cada espécie:')\n",
    "amount_of = df_data['species'].value_counts()\n",
    "print(amount_of, '\\n')\n",
    "\n",
    "\n",
    "\n",
    "#get the sepal data\n",
    "sepal_data_length = df_data['sepal_length'].describe()\n",
    "sepal_data_width =  df_data['sepal_width'].describe()\n",
    "\n",
    "#get the petal data\n",
    "petal_data_length = df_data['petal_length'].describe()\n",
    "petal_data_width =  df_data['petal_width'].describe()\n",
    "\n",
    "\n",
    "print(\n",
    "    \"\"\"\n",
    "    Sepal Length Data:\\n {0} \\n\n",
    "    Sepal Width Data: \\n {1} \\n\n",
    "    Petal Length Data:\\n {2} \\n\n",
    "    Petal Width Data: \\n {3} \\n\n",
    "    \"\"\".format(sepal_data_length, sepal_data_width, petal_data_length, petal_data_width)\n",
    "     )\n"
   ]
  },
  {
   "cell_type": "markdown",
   "metadata": {
    "run_control": {
     "marked": true
    }
   },
   "source": [
    "## Exercício 4\n",
    "\n",
    "Calcule **para cada espécie** em um dataframe separado:\n",
    "\n",
    "* A média de cada medida (sepal_length, sepal_width, petal_length, e petal_width).\n",
    "* A mediana dessas medidas.\n",
    "\n",
    "*Dica:* você pode usar o método [`groupby`](http://pandas.pydata.org/pandas-docs/stable/generated/pandas.DataFrame.groupby.html) do Pandas para agrupar as espécies antes de calcular as estatísticas.\n",
    "\n",
    "Se você terminar ambos os cálculos, tente calcular a média e mediana em uma única tabela (com uma única chamada de groupby). Veja a seção da documentação [applying multiple functions at once](http://pandas.pydata.org/pandas-docs/stable/groupby.html#applying-multiple-functions-at-once) para algumas dicas."
   ]
  },
  {
   "cell_type": "code",
   "execution_count": 5,
   "metadata": {
    "ExecuteTime": {
     "end_time": "2017-03-19T23:22:07.306171Z",
     "start_time": "2017-03-19T19:22:07.286965-04:00"
    }
   },
   "outputs": [
    {
     "name": "stdout",
     "output_type": "stream",
     "text": [
      "   sepal_length_mean  sepal_width_mean  petal_length_median  \\\n",
      "0              5.006             3.418                  1.5   \n",
      "\n",
      "   petal_width_median  \n",
      "0                 0.2  \n",
      "   sepal_length_mean  sepal_width_mean  petal_length_median  \\\n",
      "0              5.936              2.77                 4.35   \n",
      "\n",
      "   petal_width_median  \n",
      "0                 1.3  \n",
      "   sepal_length_mean  sepal_width_mean  petal_length_median  \\\n",
      "0              6.588             2.974                 5.55   \n",
      "\n",
      "   petal_width_median  \n",
      "0                 2.0  \n"
     ]
    }
   ],
   "source": [
    "#split the data\n",
    "split_data = df_data.groupby(['species'])\n",
    "\n",
    "#Get the data by groups\n",
    "setosa = split_data.get_group('setosa')\n",
    "versicolor = split_data.get_group('versicolor')\n",
    "virginica = split_data.get_group('virginica')\n",
    "\n",
    "#Creating the dataframe for each specie's data\n",
    "\n",
    "setosa_data = {\n",
    "    #get the sepal data\n",
    "    'sepal_length_mean': setosa['sepal_length'].mean(),\n",
    "    'sepal_width_mean' : setosa['sepal_width'].mean(),\n",
    "\n",
    "    #get the petal data\n",
    "    'petal_length_median': setosa['petal_length'].median(),\n",
    "    'petal_width_median' : setosa['petal_width'].median()\n",
    "}\n",
    "\n",
    "versicolor_data = {\n",
    "    #get the sepal data\n",
    "    'sepal_length_mean': versicolor['sepal_length'].mean(),\n",
    "    'sepal_width_mean' : versicolor['sepal_width'].mean(),\n",
    "\n",
    "    #get the petal data\n",
    "    'petal_length_median': versicolor['petal_length'].median(),\n",
    "    'petal_width_median' : versicolor['petal_width'].median()\n",
    "}\n",
    "\n",
    "virginica_data = {\n",
    "    #get the sepal data\n",
    "    'sepal_length_mean': virginica['sepal_length'].mean(),\n",
    "    'sepal_width_mean' : virginica['sepal_width'].mean(),\n",
    "\n",
    "    #get the petal data\n",
    "    'petal_length_median': virginica['petal_length'].median(),\n",
    "    'petal_width_median' : virginica['petal_width'].median()\n",
    "}\n",
    "\n",
    "\n",
    "df_setosa = pd.DataFrame(setosa_data, index = [0], columns = ['sepal_length_mean', 'sepal_width_mean', 'petal_length_median', 'petal_width_median'])\n",
    "df_versicolor = pd.DataFrame(versicolor_data, index = [0], columns = ['sepal_length_mean', 'sepal_width_mean', 'petal_length_median', 'petal_width_median'])\n",
    "df_virginica = pd.DataFrame(virginica_data, index = [0], columns = ['sepal_length_mean', 'sepal_width_mean', 'petal_length_median', 'petal_width_median'])\n",
    "\n",
    "print(df_setosa)\n",
    "print(df_versicolor)\n",
    "print(df_virginica)"
   ]
  },
  {
   "cell_type": "markdown",
   "metadata": {},
   "source": [
    "## Exercício 5\n",
    "\n",
    "Faça um scatter plot de `sepal_length` vs `sepal_width` usando Matplotlib. Coloque um `label` nos eixos e dê um título ao gráfico."
   ]
  },
  {
   "cell_type": "code",
   "execution_count": 15,
   "metadata": {
    "ExecuteTime": {
     "end_time": "2017-03-19T23:23:36.914375Z",
     "start_time": "2017-03-19T19:23:36.661322-04:00"
    }
   },
   "outputs": [
    {
     "data": {
      "image/png": "[encoded data removed]",
      "text/plain": [
       "<matplotlib.figure.Figure at 0x1d8d308c7f0>"
      ]
     },
     "metadata": {},
     "output_type": "display_data"
    }
   ],
   "source": [
    "import numpy as np\n",
    "import matplotlib.pyplot as plt\n",
    "\n",
    "x = df_data['sepal_length']\n",
    "y = df_data['sepal_width']\n",
    "\n",
    "plt.scatter(x, y, color = 'r')\n",
    "plt.title('sepal length vs sepal width')\n",
    "#plt.xlabel('sepal_length')\n",
    "plt.xlabel('sepal length')\n",
    "plt.ylabel('sepal width')\n",
    "plt.show()"
   ]
  },
  {
   "cell_type": "markdown",
   "metadata": {},
   "source": [
    "## Exercício 6\n",
    "\n",
    "Faça um histograma de qualquer um dos quatro atributos. Nomeie os eixos e dê um título apropriado."
   ]
  },
  {
   "cell_type": "code",
   "execution_count": 7,
   "metadata": {},
   "outputs": [
    {
     "data": {
      "image/png": "[encoded data removed]",
      "text/plain": [
       "<matplotlib.figure.Figure at 0x1d8d2526f98>"
      ]
     },
     "metadata": {},
     "output_type": "display_data"
    }
   ],
   "source": [
    "x = plt.hist(df_data['sepal_length'])\n",
    "plt.show(x)"
   ]
  },
  {
   "cell_type": "markdown",
   "metadata": {},
   "source": [
    "## Exercício 7\n",
    "\n",
    "Agora crie um único gráfico com histogramas para cada atributo (`petal_width`, `petal_length`, `sepal_width`, `sepal_length`) sobrepostos. \n",
    "\n",
    "Dicas para fazer isso com os métodos de plotagem do Pandas se encontram em [visualization guide](http://pandas.pydata.org/pandas-docs/version/0.18.1/visualization.html)."
   ]
  },
  {
   "cell_type": "code",
   "execution_count": 36,
   "metadata": {},
   "outputs": [
    {
     "data": {
      "image/png": "[encoded data removed]",
      "text/plain": [
       "<matplotlib.figure.Figure at 0x1d8d4a32208>"
      ]
     },
     "metadata": {},
     "output_type": "display_data"
    }
   ],
   "source": [
    "df_data.plot.hist(stacked=True, bins=20)\n",
    "plt.show()\n"
   ]
  },
  {
   "cell_type": "markdown",
   "metadata": {},
   "source": [
    "## Exercício 8\n",
    "\n",
    "Usando Pandas, faça um boxplot de cada medida da pétala e sépala. Veja a documentação para algumas dicas [Pandas boxplot method](http://pandas.pydata.org/pandas-docs/version/0.18.1/visualization.html#visualization-box)."
   ]
  },
  {
   "cell_type": "code",
   "execution_count": 35,
   "metadata": {},
   "outputs": [
    {
     "data": {
      "image/png": "[encoded data removed]",
      "text/plain": [
       "<matplotlib.figure.Figure at 0x1d8d3416eb8>"
      ]
     },
     "metadata": {},
     "output_type": "display_data"
    },
    {
     "data": {
      "image/png": "[encoded data removed]",
      "text/plain": [
       "<matplotlib.figure.Figure at 0x1d8d3492d68>"
      ]
     },
     "metadata": {},
     "output_type": "display_data"
    },
    {
     "data": {
      "image/png": "[encoded data removed]",
      "text/plain": [
       "<matplotlib.figure.Figure at 0x1d8d34abf60>"
      ]
     },
     "metadata": {},
     "output_type": "display_data"
    },
    {
     "data": {
      "image/png": "[encoded data removed]",
      "text/plain": [
       "<matplotlib.figure.Figure at 0x1d8d47dbc88>"
      ]
     },
     "metadata": {},
     "output_type": "display_data"
    },
    {
     "data": {
      "text/plain": [
       "<matplotlib.figure.Figure at 0x1d8d47dbac8>"
      ]
     },
     "metadata": {},
     "output_type": "display_data"
    },
    {
     "data": {
      "image/png": "[encoded data removed]",
      "text/plain": [
       "<matplotlib.figure.Figure at 0x1d8d4893630>"
      ]
     },
     "metadata": {},
     "output_type": "display_data"
    },
    {
     "data": {
      "image/png": "[encoded data removed]",
      "text/plain": [
       "<matplotlib.figure.Figure at 0x1d8d4955438>"
      ]
     },
     "metadata": {},
     "output_type": "display_data"
    },
    {
     "data": {
      "image/png": "[encoded data removed]",
      "text/plain": [
       "<matplotlib.figure.Figure at 0x1d8d4947828>"
      ]
     },
     "metadata": {},
     "output_type": "display_data"
    },
    {
     "data": {
      "image/png": "[encoded data removed]",
      "text/plain": [
       "<matplotlib.figure.Figure at 0x1d8d0fb4dd8>"
      ]
     },
     "metadata": {},
     "output_type": "display_data"
    }
   ],
   "source": [
    "df_data.plot.box()\n",
    "plt.show()\n",
    "#plt.figure()\n"
   ]
  },
  {
   "cell_type": "markdown",
   "metadata": {},
   "source": [
    "## Exercício 9\n",
    "\n",
    "Agora faça um único boxplot onde os atributos estão separados no eixo-x e as espécies são coloridas por tons de cores diferentes.\n",
    "\n",
    "*Dica:* veja a documentação para [Seaborn boxplots](http://seaborn.pydata.org/generated/seaborn.boxplot.html). \n",
    "\n",
    "Note que o Seaborn é bem exigente quanto ao formato dos dados--para esse plot funcionar, o dataframe de entrada precisa ser manipulado para que cada linha contenha um único ponto (uma espécie, um tipo de medida e um valor da medida). Veja o Pandas [stack](http://pandas.pydata.org/pandas-docs/stable/generated/pandas.DataFrame.stack.html) como uma dica.\n",
    "\n",
    "Um exemplo desse formato para essa base:\n",
    "\n",
    "|   | species | measurement  | size |\n",
    "| - | ------- | ------------ | ---- |\n",
    "| 0\t| setosa  | sepal_length | 5.1  |\n",
    "| 1\t| setosa  | sepal_width  | 3.5  |"
   ]
  },
  {
   "cell_type": "code",
   "execution_count": null,
   "metadata": {
    "collapsed": true
   },
   "outputs": [],
   "source": []
  },
  {
   "cell_type": "markdown",
   "metadata": {},
   "source": [
    "## Exercício 10\n",
    "\n",
    "Faça um  [pairplot](http://seaborn.pydata.org/generated/seaborn.pairplot.html) com o Seaborn para examinar a correlação entre cada uma das medidas.\n",
    "\n",
    "*Dica:* esse plot pode parecer complicado, mas é na verdade uma única linha de código. Esse é o poder de expressabilidade do Seaborn junto do Pandas."
   ]
  },
  {
   "cell_type": "code",
   "execution_count": null,
   "metadata": {
    "collapsed": true
   },
   "outputs": [],
   "source": []
  }
 ],
 "metadata": {
  "anaconda-cloud": {},
  "kernelspec": {
   "display_name": "Python 3",
   "language": "python",
   "name": "python3"
  },
  "language_info": {
   "codemirror_mode": {
    "name": "ipython",
    "version": 3
   },
   "file_extension": ".py",
   "mimetype": "text/x-python",
   "name": "python",
   "nbconvert_exporter": "python",
   "pygments_lexer": "ipython3",
   "version": "3.6.3"
  }
 },
 "nbformat": 4,
 "nbformat_minor": 2
}
